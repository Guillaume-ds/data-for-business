{
 "cells": [
  {
   "cell_type": "markdown",
   "metadata": {},
   "source": [
    "# Tensorflow"
   ]
  },
  {
   "cell_type": "markdown",
   "metadata": {},
   "source": [
    "## What is Tensorflow ? \n",
    "\n",
    "TensorFlow is an open-source, machine learning framework developed by Google. It is designed to simplify and accelerate the process of building, training, and deploying machine learning models. TensorFlow provides a comprehensive ecosystem of tools, libraries, and resources that enable researchers, developers, and data scientists to create powerful artificial intelligence applications. \n",
    "\n",
    "At its core, TensorFlow revolves around the concept of a computational graph. A computational graph is a series of mathematical operations represented as nodes, with data flowing between them as tensors. Tensors are multi-dimensional arrays that can hold numerical values, making them suitable for processing large amounts of data efficiently. One of the key features of TensorFlow is its ability to handle both deep learning and traditional machine learning tasks. It supports a wide range of model architectures, including deep neural networks, convolutional neural networks (CNNs), recurrent neural networks (RNNs), and more. Whether you're working on image recognition, natural language processing, time series analysis, or any other machine learning problem, TensorFlow provides the building blocks and flexibility to create sophisticated models. TensorFlow offers multiple levels of abstraction to cater to different user needs. At the lowest level, you can work directly with TensorFlow's core API, which provides fine-grained control over model creation and training. On top of that, TensorFlow provides higher-level APIs like Keras, a user-friendly interface that simplifies the process of building and training models while still offering customization options.\n",
    "\n",
    "Another notable aspect of TensorFlow is its distributed computing capabilities. It supports distributed training across multiple machines or devices, allowing you to scale your models and process larger datasets efficiently. TensorFlow can leverage GPUs (Graphics Processing Units) and TPUs (Tensor Processing Units) to accelerate computations and achieve significant speedups in training and inference. \n",
    "\n",
    "Furthermore, TensorFlow boasts a vibrant and supportive community. It offers extensive documentation, tutorials, and a rich collection of pre-trained models through the TensorFlow Hub. The community actively contributes to the development of new features, libraries, and tools, making it easier for users to leverage the latest advancements in machine learning. It provides high-level APIs, such as Keras, which simplify the process of building and training neural networks. Keras offers a user-friendly and intuitive interface while leveraging the underlying power of TensorFlow. Moreover, TensorFlow's ecosystem includes TensorFlow Extended (TFX) for productionizing machine learning pipelines, TensorFlow Lite for deploying models on mobile and embedded devices, and TensorFlow.js for running models in web browsers.\n",
    "\n",
    "In conclusion, TensorFlow is a powerful and versatile machine learning framework that empowers developers and researchers to tackle complex AI tasks. With its extensive range of features, flexibility, and strong community support, TensorFlow has become a popular choice for building cutting-edge machine learning models and driving innovation in the field of artificial intelligence."
   ]
  },
  {
   "cell_type": "markdown",
   "metadata": {},
   "source": [
    "## How does it works ?\n",
    "\n",
    "At the core of TensorFlow is the concept of a computational graph. A computational graph is a symbolic representation of the mathematical operations that need to be performed. It consists of nodes, which represent mathematical operations, and edges, which represent the data flow between these operations. The data flow happens through tensors, which are multidimensional arrays.\n",
    "\n",
    "TensorFlow follows a two-step process: the construction phase and the execution phase. During the construction phase, you define the computational graph by creating a series of operations and tensors using TensorFlow's APIs. These operations can range from basic mathematical operations to complex operations specific to machine learning, such as convolution and matrix multiplication. You can also define variables, which are tensors that can be updated and trained during the optimization process.\n",
    "\n",
    "Once the computational graph is constructed, you move to the execution phase. In this phase, you can feed in the input data to the placeholders or variables defined in the graph by using a TensorFlow session or the default session. You then run the operations by calling the appropriate session methods. TensorFlow optimizes the execution of these operations by automatically parallelizing and distributing them across available hardware resources. During the execution, TensorFlow performs automatic differentiation to compute gradients efficiently using the backpropagation algorithm. This enables the training of neural networks through gradient descent optimization methods. TensorFlow's extensive library of optimizers makes it easy to choose and apply different optimization algorithms to update the model's parameters.\n",
    "\n",
    "In summary, TensorFlow works by creating a computational graph that represents the mathematical operations and data flow, and then executing it within a session."
   ]
  },
  {
   "cell_type": "markdown",
   "metadata": {},
   "source": [
    "## What are tensors ? \n",
    "\n",
    "In TensorFlow, a tensor is a multidimensional array or a mathematical object that represents data. It can be thought of as a generalization of matrices to higher dimensions. Tensors are at the core of TensorFlow's computational graph, which is a symbolic representation of mathematical operations.\n",
    "\n",
    "They are important for several reasons:\n",
    "\n",
    "- **Data representation**: Tensors provide a flexible and efficient way to represent and manipulate data. They can store and process large volumes of numerical data, such as images, audio, and text, in a structured manner. Tensors can have any number of dimensions, allowing for the representation of complex and multidimensional data.\n",
    "\n",
    "- **Computation**: TensorFlow is designed for numerical computations, and tensors serve as the primary data structure for these computations. TensorFlow operations, such as addition, multiplication, and matrix operations, are applied to tensors. Tensors enable the efficient execution of mathematical operations across distributed computing resources like CPUs and GPUs.\n",
    "\n",
    "- **Neural networks**: Tensors are particularly important in the context of neural networks. Neural networks consist of interconnected layers of nodes, where each node performs a mathematical operation on its inputs. These inputs and outputs are represented as tensors. Tensors store the weights and biases of the network, and they carry the data through the network during training and inference.\n",
    "\n",
    "- **Automatic differentiation**: TensorFlow utilizes automatic differentiation to compute gradients efficiently. Gradients are essential for training neural networks using optimization algorithms like gradient descent. Tensors store the intermediate values during the computation of gradients, enabling efficient backpropagation and parameter updates.\n",
    "\n",
    "Overall, tensors in TensorFlow provide a flexible and efficient way to represent and manipulate data, perform mathematical operations, and train complex models. They are a fundamental building block for deep learning and enable the development and execution of sophisticated machine learning algorithms."
   ]
  },
  {
   "cell_type": "code",
   "execution_count": 3,
   "metadata": {},
   "outputs": [
    {
     "name": "stdout",
     "output_type": "stream",
     "text": [
      "<module 'tensorflow._api.v2.version' from '/Users/guillaumedesurville/Desktop/Cours/Polytechnique/Optimisation/Final Lab/venv/lib/python3.10/site-packages/tensorflow/_api/v2/version/__init__.py'>\n"
     ]
    }
   ],
   "source": [
    "#!pip install tensorflow \n",
    "import tensorflow as tf\n",
    "print(tf.version)"
   ]
  },
  {
   "cell_type": "code",
   "execution_count": null,
   "metadata": {},
   "outputs": [],
   "source": []
  }
 ],
 "metadata": {
  "kernelspec": {
   "display_name": "Python 3.10.9 ('venv': venv)",
   "language": "python",
   "name": "python3"
  },
  "language_info": {
   "codemirror_mode": {
    "name": "ipython",
    "version": 3
   },
   "file_extension": ".py",
   "mimetype": "text/x-python",
   "name": "python",
   "nbconvert_exporter": "python",
   "pygments_lexer": "ipython3",
   "version": "3.10.9"
  },
  "orig_nbformat": 4,
  "vscode": {
   "interpreter": {
    "hash": "af57fe006a38526657dacfc45f899b227e4263251e2f8e882d4e97b7d166bfef"
   }
  }
 },
 "nbformat": 4,
 "nbformat_minor": 2
}
