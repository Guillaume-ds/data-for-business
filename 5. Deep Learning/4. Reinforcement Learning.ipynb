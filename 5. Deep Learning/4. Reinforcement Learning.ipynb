{
 "cells": [
  {
   "cell_type": "markdown",
   "metadata": {},
   "source": [
    "# Reinforcement Learning"
   ]
  },
  {
   "cell_type": "markdown",
   "metadata": {},
   "source": [
    "## 1. What is Reinforcement Learning\n",
    "\n",
    "Reinforcement learning (RL) is an area of machine learning that focuses on how agents should take actions in an environment in order to maximize some notion of cumulative reward. It is an area of artificial intelligence that enables agents to learn from their environment by trial and error, without relying on explicit programming. The goal is to create agents that can adapt and optimize their behavior based on the feedback they receive from the environment. It does not necessarily relies on Deep Learning, but Deep Learning is very often used for RL"
   ]
  },
  {
   "cell_type": "code",
   "execution_count": null,
   "metadata": {},
   "outputs": [],
   "source": []
  }
 ],
 "metadata": {
  "kernelspec": {
   "display_name": "Python 3.11.1 64-bit",
   "language": "python",
   "name": "python3"
  },
  "language_info": {
   "name": "python",
   "version": "3.11.1"
  },
  "orig_nbformat": 4,
  "vscode": {
   "interpreter": {
    "hash": "5c7b89af1651d0b8571dde13640ecdccf7d5a6204171d6ab33e7c296e100e08a"
   }
  }
 },
 "nbformat": 4,
 "nbformat_minor": 2
}
