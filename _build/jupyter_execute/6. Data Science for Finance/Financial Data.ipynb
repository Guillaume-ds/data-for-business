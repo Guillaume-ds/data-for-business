{
 "cells": [
  {
   "cell_type": "markdown",
   "metadata": {},
   "source": [
    "# Financial Data"
   ]
  },
  {
   "cell_type": "markdown",
   "metadata": {},
   "source": [
    "## 1 - Basic Financial contracts and their prices\n",
    "\n",
    "Futur cash flow denoted $A_T$ : \n",
    "- $T$ is the maturity, a time horizon in the futur\n",
    "- The value $A_T$ is unknown today\n",
    "\n",
    "The spot price $ price_t(A_T,T)$ : \n",
    "- It is the price to pay at time $t$ in order to receive $A_T$ at $T$ \n",
    "\n",
    "The forward price $ F_t(A_T,T)$ : \n",
    "- It is the price determined at time $t$ but to pay at $T$ in order to receive $A_T$  \n",
    "\n",
    "At time $t$, we enter into a forward contract by agreeing on the value of $ F_t(A_T,T)$. However, there are no cash flow at that time : the price to pay to enter a forward is 0.\n",
    "\n",
    "*A long position in a forward is to receive $A_T$ and pay $F$* \n",
    "\n",
    "*A short position in a forward is to receive $F$ in exchange for $A_T$*\n",
    "\n",
    "We assume that there ie a risk-free rate r such that N eur invested at t = N(1 + r (T-t)) at T\n",
    "\n",
    "So for any cash flox $A_T$ we have : \n",
    "\n",
    "$$\n",
    "F_t(A_T,T) = price_t(A_T,T)(1+r(T-t))\n",
    "$$\n",
    "\n",
    "Value at time = $ F_t(A_T,T) - price_t(A_T,T)(1+r(T-t))$\n"
   ]
  },
  {
   "cell_type": "markdown",
   "metadata": {},
   "source": [
    "### Options \n",
    "\n",
    "An option is a financial contract whose value at maturity T depends on the value of S \n",
    "The option payoff = $g(S_T)$ \n"
   ]
  },
  {
   "cell_type": "code",
   "execution_count": null,
   "metadata": {},
   "outputs": [],
   "source": []
  }
 ],
 "metadata": {
  "kernelspec": {
   "display_name": "Python 3.11.1 64-bit",
   "language": "python",
   "name": "python3"
  },
  "language_info": {
   "codemirror_mode": {
    "name": "ipython",
    "version": 3
   },
   "file_extension": ".py",
   "mimetype": "text/x-python",
   "name": "python",
   "nbconvert_exporter": "python",
   "pygments_lexer": "ipython3",
   "version": "3.10.9"
  },
  "vscode": {
   "interpreter": {
    "hash": "5c7b89af1651d0b8571dde13640ecdccf7d5a6204171d6ab33e7c296e100e08a"
   }
  }
 },
 "nbformat": 4,
 "nbformat_minor": 2
}