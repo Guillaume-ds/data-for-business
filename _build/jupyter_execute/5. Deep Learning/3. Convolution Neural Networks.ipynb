{
 "cells": [
  {
   "cell_type": "markdown",
   "metadata": {},
   "source": [
    "# Convolutional Neural Networks\n",
    "\n",
    "### Convolutional Layers \n",
    "\n",
    "<div style=\"text-align: justify\">\n",
    "A convolutional neural network is a neural network that uses convolution instead of matrix product. Convolution consists in applying the same transformation to different parts of the image, that will reflect the dependence between pixels and thus will detect the main features of the image. With convolution, the inputs are not connected to every neurons, but instead they are linked to their neighbours. This is a sparse connectivity, as opposed to the dense connectivity of a traditionnal neural network, wich are easier to optimize. \n",
    "<br><br>\n",
    "The formal definition of the Convolution operator : \n",
    "</div>\n",
    "\n",
    "$$\n",
    "\n",
    "\\begin{align}\n",
    "O(i,j) \n",
    "& = (I*K)(i,j) \\\\ \n",
    "& = \\sum_k \\sum_I I(i + k , j + I) K (k,I)\n",
    "\\end{align}\n",
    "\\\\ \n",
    "\\text{Where I is the input, and K the kernel to be learned}\n",
    "\n",
    "$$\n",
    "\n",
    "There are four hyper parameters that control the size of the ouput volume  :\n",
    "1. **Size of the Kernel** (usually 3x3 or 5x5)\n",
    "2. **Depth of the output volume** \n",
    "3. **Stride** that correspond to the shift in pixel \n",
    "4. **Zero Padding**\n",
    "\n",
    "We do not specify the depth of the kernel as it is usually the same as the input layer. Also, the kernel operates on the all depth of the input volume. \n",
    "\n",
    "We obtain the equality : \n",
    "\n",
    "$$\n",
    "O = \\lfloor \\frac{I + 2P - K}{S} \\rfloor + 1\n",
    "$$ \n",
    "\n",
    "With : \n",
    "- O the output size (height/width)\n",
    "- I the input size (height/width)\n",
    "- P the padding \n",
    "- K the size of the filter (height/width)\n",
    "- S the stride \n",
    "\n",
    "### Polling layers \n",
    "\n",
    "<div style=\"text-align: justify\">\n",
    "The pooling layer operates independently on every depth slice of the input and resizes it, therefore the depth of the output of a pooling layer is always equal to the depth of its input. It uses a given function, usually the max function. \n",
    "</div>"
   ]
  },
  {
   "cell_type": "markdown",
   "metadata": {},
   "source": [
    "#### LeNet\n",
    "\n"
   ]
  },
  {
   "cell_type": "code",
   "execution_count": null,
   "metadata": {},
   "outputs": [],
   "source": []
  }
 ],
 "metadata": {
  "kernelspec": {
   "display_name": "Python 3.10.8 64-bit",
   "language": "python",
   "name": "python3"
  },
  "language_info": {
   "codemirror_mode": {
    "name": "ipython",
    "version": 3
   },
   "file_extension": ".py",
   "mimetype": "text/x-python",
   "name": "python",
   "nbconvert_exporter": "python",
   "pygments_lexer": "ipython3",
   "version": "3.10.9"
  },
  "vscode": {
   "interpreter": {
    "hash": "b0fa6594d8f4cbf19f97940f81e996739fb7646882a419484c72d19e05852a7e"
   }
  }
 },
 "nbformat": 4,
 "nbformat_minor": 2
}