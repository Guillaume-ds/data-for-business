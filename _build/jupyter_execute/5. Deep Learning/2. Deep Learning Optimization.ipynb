{
 "cells": [
  {
   "cell_type": "markdown",
   "metadata": {},
   "source": [
    "# Deep Learning Problems and Optimization"
   ]
  },
  {
   "cell_type": "markdown",
   "metadata": {},
   "source": [
    "<div style=\"text-align:justify\">\n",
    "Optimization is a crucial step in deep learning, that concerns every problem with various degrees of difficulty. Depending on the task and the data set, optimization will be more or less challenging. Therefore it is important to understand how one can optimize the main algorithms in order to choose the right one for a given problem. \n",
    "</div>\n",
    "\n",
    "#### Main challenges : \n",
    "- Convexity of the function (a non-convex function may have many local minima)\n",
    "- Set of the optimization function\n",
    "- Dimension of the vector of parameters\n",
    "- Cost of gradient computing\n",
    "- Irregularity of a twice differentiable function :\n",
    "    - L-smooth if : $ \\forall w \\in R^d, eig[f''(w)]\\le L $\n",
    "    - $\\mu$-strongly convex if : $\\forall w \\in R^d, eig[f''(w)]\\ge \\mu $\n",
    "\n",
    "\n",
    "<div style=\"text-align:justify\">\n",
    "Those are some of the main challenges we encouter while doing optimization. Therefore, it is important to understand precisely how we can tackle such issues. \n",
    "</div>"
   ]
  },
  {
   "cell_type": "markdown",
   "metadata": {},
   "source": [
    "## Gradient Descent Procedure\n",
    "\n",
    "We aim at minimizing a function $ f : R^d \\rightarrow R$\n",
    "\n",
    "<div style=\"display:flex;justify-content: space-around;\">\n",
    "<img src=\"pictures/minimum.png\">\n",
    "<img src=\"pictures/minimum2D.png\">\n",
    "</div>"
   ]
  },
  {
   "cell_type": "markdown",
   "metadata": {},
   "source": [
    "In order to solve this problem, we have ton compute the gradient of the function, which is the vector of partial derivatives : \n",
    "\n",
    "$$\n",
    "\\nabla f(\\left.x_{1}, x_{2}, \\ldots, x_{n}\\right)=\\left[\\begin{array}{c}\n",
    "\\dfrac{\\partial f}{\\partial x_1}(\\left.x_{1}, x_{2}, \\ldots, x_{n}\\right)\\\\\n",
    "\\dfrac{\\partial f}{\\partial x_2}(\\left.x_{1}, x_{2}, \\ldots, x_{n}\\right) \\\\\n",
    "\\vdots \\\\\n",
    "\\dfrac{\\partial f}{\\partial x_n}(\\left.x_{1}, x_{2}, \\ldots, x_{n}\\right) \n",
    "\\end{array}\\right]\n",
    "$$\n",
    "\n",
    "We call *critical points* the points such that $ \\nabla f(w^*) = 0 $ \n",
    "\n",
    "*Remark* critical points are not always extrema !\n",
    "\n",
    "If this function is twice differenciable, we can compute the hessian matrix given by : \n",
    "\n",
    "$$\n",
    "\\nabla^2 f(\\left.x_{1}, x_{2}, \\ldots, x_{n}\\right)=\n",
    "\\begin{bmatrix}\n",
    "    \\frac{\\partial^2 f}{\\partial x_1^2} & \\frac{\\partial^2 f}{\\partial x_1 \\partial x_2} & \\dots & \\frac{\\partial^2 f}{\\partial x_1 \\partial x_n} \\\\\n",
    "    \\frac{\\partial^2 f}{\\partial x_2 \\partial x_1} & \\frac{\\partial^2 f}{\\partial x_2^2} & \\dots & \\frac{\\partial^2 f}{\\partial x_2 \\partial x_n} \\\\\n",
    "    \\vdots & \\vdots & \\ddots & \\vdots \\\\\n",
    "    \\frac{\\partial^2 f}{\\partial x_n \\partial x_1} & \\frac{\\partial^2 f}{\\partial x_n \\partial x_2} & \\dots & \\frac{\\partial^2 f}{\\partial x_n^2}\n",
    "\\end{bmatrix}\n",
    "$$\n",
    "\n",
    "### Convex Function "
   ]
  },
  {
   "cell_type": "markdown",
   "metadata": {},
   "source": []
  }
 ],
 "metadata": {
  "kernelspec": {
   "display_name": "Python 3.10.8 64-bit",
   "language": "python",
   "name": "python3"
  },
  "language_info": {
   "codemirror_mode": {
    "name": "ipython",
    "version": 3
   },
   "file_extension": ".py",
   "mimetype": "text/x-python",
   "name": "python",
   "nbconvert_exporter": "python",
   "pygments_lexer": "ipython3",
   "version": "3.10.9"
  },
  "vscode": {
   "interpreter": {
    "hash": "b0fa6594d8f4cbf19f97940f81e996739fb7646882a419484c72d19e05852a7e"
   }
  }
 },
 "nbformat": 4,
 "nbformat_minor": 2
}